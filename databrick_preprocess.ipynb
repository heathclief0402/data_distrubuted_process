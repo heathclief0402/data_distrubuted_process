{
 "cells": [
  {
   "cell_type": "markdown",
   "metadata": {
    "application/vnd.databricks.v1+cell": {
     "cellMetadata": {},
     "inputWidgets": {},
     "nuid": "18da9a5d-cd99-4a0b-a238-b2c70fbf32fc",
     "showTitle": false,
     "title": ""
    }
   },
   "source": [
    "1. Start new session of pyspark"
   ]
  },
  {
   "cell_type": "code",
   "execution_count": 0,
   "metadata": {
    "application/vnd.databricks.v1+cell": {
     "cellMetadata": {
      "byteLimit": 2048000,
      "rowLimit": 10000
     },
     "inputWidgets": {},
     "nuid": "ceea410e-0e4e-4cc7-b43e-9c04b1645207",
     "showTitle": false,
     "title": ""
    }
   },
   "outputs": [],
   "source": [
    "from pyspark.sql import SparkSession\n",
    "spark = SparkSession.builder\\\n",
    "        .master(\"local\")\\\n",
    "        .appName(\"Colab\")\\\n",
    "        .config('spark.ui.port', '4050')\\\n",
    "        .config('spark.driver.memory', '48g')\\\n",
    "        .getOrCreate()"
   ]
  },
  {
   "cell_type": "code",
   "execution_count": 0,
   "metadata": {
    "application/vnd.databricks.v1+cell": {
     "cellMetadata": {
      "byteLimit": 2048000,
      "rowLimit": 10000
     },
     "inputWidgets": {},
     "nuid": "539d3529-eac7-4b46-a917-babce0491de2",
     "showTitle": false,
     "title": ""
    }
   },
   "outputs": [
    {
     "output_type": "execute_result",
     "data": {
      "text/html": [
       "\n",
       "            <div>\n",
       "                <p><b>SparkSession - hive</b></p>\n",
       "                \n",
       "        <div>\n",
       "            <p><b>SparkContext</b></p>\n",
       "\n",
       "            <p><a href=\"/?o=3525225474084291#setting/sparkui/1129-080646-i2fwjdg5/driver-6323353631417102475\">Spark UI</a></p>\n",
       "\n",
       "            <dl>\n",
       "              <dt>Version</dt>\n",
       "                <dd><code>v3.5.0</code></dd>\n",
       "              <dt>Master</dt>\n",
       "                <dd><code>spark://10.139.64.6:7077</code></dd>\n",
       "              <dt>AppName</dt>\n",
       "                <dd><code>Databricks Shell</code></dd>\n",
       "            </dl>\n",
       "        </div>\n",
       "        \n",
       "            </div>\n",
       "        "
      ],
      "text/plain": [
       "<pyspark.sql.session.SparkSession at 0x7f5ecb58df90>"
      ]
     },
     "execution_count": 5,
     "metadata": {},
     "output_type": "execute_result"
    }
   ],
   "source": [
    "spark"
   ]
  },
  {
   "cell_type": "markdown",
   "metadata": {
    "application/vnd.databricks.v1+cell": {
     "cellMetadata": {
      "byteLimit": 2048000,
      "rowLimit": 10000
     },
     "inputWidgets": {},
     "nuid": "39efc7df-37f6-4016-a7cd-f6063ac08c6e",
     "showTitle": false,
     "title": ""
    }
   },
   "source": [
    "2. load data"
   ]
  },
  {
   "cell_type": "code",
   "execution_count": 0,
   "metadata": {
    "application/vnd.databricks.v1+cell": {
     "cellMetadata": {
      "byteLimit": 2048000,
      "rowLimit": 10000
     },
     "inputWidgets": {},
     "nuid": "54089d26-5cdc-486a-bb1d-b0f948826b64",
     "showTitle": false,
     "title": ""
    }
   },
   "outputs": [],
   "source": [
    "train_cvs_path = \"dbfs:/user/hive/warehouse/train_csv\"\n",
    "test_cvs_path = \"dbfs:/user/hive/warehouse/test_csv\"\n",
    "validation_cvs_path = \"dbfs:/user/hive/warehouse/validation_csv\""
   ]
  },
  {
   "cell_type": "code",
   "execution_count": 0,
   "metadata": {
    "application/vnd.databricks.v1+cell": {
     "cellMetadata": {
      "byteLimit": 2048000,
      "rowLimit": 10000
     },
     "inputWidgets": {},
     "nuid": "0926bed1-dfe6-4774-ada3-553c142edea0",
     "showTitle": false,
     "title": ""
    }
   },
   "outputs": [],
   "source": [
    "# df = spark.read.format(\"delta\").load(delta_table_path)\n",
    "df_train_pyspark = spark.read.format(\"delta\").load(train_cvs_path)\n",
    "df_test_pyspark = spark.read.format(\"delta\").load(test_cvs_path)\n",
    "df_validation_pyspark = spark.read.format(\"delta\").load(validation_cvs_path)"
   ]
  },
  {
   "cell_type": "code",
   "execution_count": 0,
   "metadata": {
    "application/vnd.databricks.v1+cell": {
     "cellMetadata": {
      "byteLimit": 2048000,
      "rowLimit": 10000
     },
     "inputWidgets": {},
     "nuid": "d85cae32-2733-40b9-b88e-53298ed42291",
     "showTitle": false,
     "title": ""
    }
   },
   "outputs": [
    {
     "output_type": "stream",
     "name": "stdout",
     "output_type": "stream",
     "text": [
      "+----------------------------------------+---------------------------------------------------------------------------------------------------------------------------------------------------------------------------------------------------------------------------------------------------------------------------------------------------------------------------------------------------------------------------------------------------------------------------------------------------------------------------------------------------------------------------------------------------------------------------------------------------------------------------------------------------------------------------------------------------------------------------------------------------------------------------------------------------------------------------------------------------------------------------------------------------------------------------------------------------------------------------------------------------------------------------------------------------------------------------------------------------------------------------------------------------------------------------------------------------------------------------------------------------------------------------------------------------------------------------------------------------------------------------------------------------------------------------------------------------------------------------------------------------------------------------------------------------------------------------------------------------------------------------------------------------------------------------------------------------------------------------------------------------------------------------------------------------------------------------------------------------------------------------------------------------------------------------------------------------------------------------------------------------------------------------------------------------------------------------------------------------------------------------------------------------------------------------------------------------------------------------------------------------------------------------------------------------------------------------------------------------------------------------------------------------------------------------------------------------------------------------------------------------------------------------------------------------------------------------------------------------------------------------------------------------------------------------------------------------------------------------------------------------------------------------------------------------------------------------------------------------------------------------------------------------------------------------------------------------------------------------------------------------------------------------------------------------------------------------------------------------------------------------------------------------------------------------------------------------------------------------------------------------------------------------------------------------------------------------------------------------------------------------------------------------------------------------------------------------------------------------------------------------------------------------------------------------------------------------------------------------------------------------------------------------------------------------------------------------------------------------------------------------------------------------------------------------------------------------------------------------------------------------------------------------------------------------------------------------------------------------------------------------------------------------------------------------------------------------------------------------------------------------------------------------------------------------------------------------------------------------------------------------------------------------------------------------------------------------------------------------------------------------------------------------------------------------------------------------------------------------------------------------------------------------------------------------------------------------------------------------------------------------------------------------------------------------------------------------------------------------------------------------------------------------------------------------------------------------------------------------------------------------------------------------------------------------------------+----------------------------------------------------------------------------------------------------------------------------------------------------------------------------------------------------------------------------------------------------------------------------------------------------------------------------------------------------------------------------------------------------------------------+\n|id                                      |article                                                                                                                                                                                                                                                                                                                                                                                                                                                                                                                                                                                                                                                                                                                                                                                                                                                                                                                                                                                                                                                                                                                                                                                                                                                                                                                                                                                                                                                                                                                                                                                                                                                                                                                                                                                                                                                                                                                                                                                                                                                                                                                                                                                                                                                                                                                                                                                                                                                                                                                                                                                                                                                                                                                                                                                                                                                                                                                                                                                                                                                                                                                                                                                                                                                                                                                                                                                                                                                                                                                                                                                                                                                                                                                                                                                                                                                                                                                                                                                                                                                                                                                                                                                                                                                                                                                                                                                                                                                                                                                                                                                                                                                                                                                                                                                                                                                                                                                                |highlights                                                                                                                                                                                                                                                                                                                                                                                                            |\n+----------------------------------------+---------------------------------------------------------------------------------------------------------------------------------------------------------------------------------------------------------------------------------------------------------------------------------------------------------------------------------------------------------------------------------------------------------------------------------------------------------------------------------------------------------------------------------------------------------------------------------------------------------------------------------------------------------------------------------------------------------------------------------------------------------------------------------------------------------------------------------------------------------------------------------------------------------------------------------------------------------------------------------------------------------------------------------------------------------------------------------------------------------------------------------------------------------------------------------------------------------------------------------------------------------------------------------------------------------------------------------------------------------------------------------------------------------------------------------------------------------------------------------------------------------------------------------------------------------------------------------------------------------------------------------------------------------------------------------------------------------------------------------------------------------------------------------------------------------------------------------------------------------------------------------------------------------------------------------------------------------------------------------------------------------------------------------------------------------------------------------------------------------------------------------------------------------------------------------------------------------------------------------------------------------------------------------------------------------------------------------------------------------------------------------------------------------------------------------------------------------------------------------------------------------------------------------------------------------------------------------------------------------------------------------------------------------------------------------------------------------------------------------------------------------------------------------------------------------------------------------------------------------------------------------------------------------------------------------------------------------------------------------------------------------------------------------------------------------------------------------------------------------------------------------------------------------------------------------------------------------------------------------------------------------------------------------------------------------------------------------------------------------------------------------------------------------------------------------------------------------------------------------------------------------------------------------------------------------------------------------------------------------------------------------------------------------------------------------------------------------------------------------------------------------------------------------------------------------------------------------------------------------------------------------------------------------------------------------------------------------------------------------------------------------------------------------------------------------------------------------------------------------------------------------------------------------------------------------------------------------------------------------------------------------------------------------------------------------------------------------------------------------------------------------------------------------------------------------------------------------------------------------------------------------------------------------------------------------------------------------------------------------------------------------------------------------------------------------------------------------------------------------------------------------------------------------------------------------------------------------------------------------------------------------------------------------------------------------------+----------------------------------------------------------------------------------------------------------------------------------------------------------------------------------------------------------------------------------------------------------------------------------------------------------------------------------------------------------------------------------------------------------------------+\n|0001d1afc246a7964130f43ae940af6bc6c57f01|By . Associated Press . PUBLISHED: . 14:11 EST, 25 October 2013 . | . UPDATED: . 15:36 EST, 25 October 2013 . The bishop of the Fargo Catholic Diocese in North Dakota has exposed potentially hundreds of church members in Fargo, Grand Forks and Jamestown to the hepatitis A virus in late September and early October. The state Health Department has issued an advisory of exposure for anyone who attended five churches and took communion. Bishop John Folda (pictured) of the Fargo Catholic Diocese in North Dakota has exposed potentially hundreds of church members in Fargo, Grand Forks and Jamestown to the hepatitis A . State Immunization Program Manager Molly Howell says the risk is low, but officials feel it's important to alert people to the possible exposure. The diocese announced on Monday that Bishop John Folda is taking time off after being diagnosed with hepatitis A. The diocese says he contracted the infection through contaminated food while attending a conference for newly ordained bishops in Italy last month. Symptoms of hepatitis A include fever, tiredness, loss of appetite, nausea and abdominal discomfort. Fargo Catholic Diocese in North Dakota (pictured) is where the bishop is located .                                                                                                                                                                                                                                                                                                                                                                                                                                                                                                                                                                                                                                                                                                                                                                                                                                                                                                                                                                                                                                                                                                                                                                                                                                                                                                                                                                                                                                                                                                                                                                                                                                                                                                                                                                                                                                                                                                                                                                                                                                                                                                                                                                                                                                                                                                                                                                                                                                                                                                                                                                                                                                                                                                                                                                                                                                                                                                                                                                                                                                                                                                                                                                                                                                                                                                                                                                                                                                                                                                                                                                                                                                                                            |Bishop John Folda, of North Dakota, is taking time off after being diagnosed .\\nHe contracted the infection through contaminated food in Italy .\\nChurch members in Fargo, Grand Forks and Jamestown could have been exposed .                                                                                                                                                                                        |\n|0002095e55fcbd3a2f366d9bf92a95433dc305ef|(CNN) -- Ralph Mata was an internal affairs lieutenant for the Miami-Dade Police Department, working in the division that investigates allegations of wrongdoing by cops. Outside the office, authorities allege that the 45-year-old longtime officer worked with a drug trafficking organization to help plan a murder plot and get guns. A criminal complaint unsealed in U.S. District Court in New Jersey Tuesday accuses Mata, also known as \"The Milk Man,\" of using his role as a police officer to help the drug trafficking organization in exchange for money and gifts, including a Rolex watch. In one instance, the complaint alleges, Mata arranged to pay two assassins to kill rival drug dealers. The killers would pose as cops, pulling over their targets before shooting them, according to the complaint. \"Ultimately, the (organization) decided not to move forward with the murder plot, but Mata still received a payment for setting up the meetings,\" federal prosecutors said in a statement. The complaint also alleges that Mata used his police badge to purchase weapons for drug traffickers. Mata, according to the complaint, then used contacts at the airport to transport the weapons in his carry-on luggage on trips from Miami to the Dominican Republic. Court documents released by investigators do not specify the name of the drug trafficking organization with which Mata allegedly conspired but says the organization has been importing narcotics from places such as Ecuador and the Dominican Republic by hiding them \"inside shipping containers containing pallets of produce, including bananas.\" The organization \"has been distributing narcotics in New Jersey and elsewhere,\" the complaint says. Authorities arrested Mata on Tuesday in Miami Gardens, Florida. It was not immediately clear whether Mata has an attorney, and police officials could not be immediately reached for comment. Mata has worked for the Miami-Dade Police Department since 1992, including directing investigations in Miami Gardens and working as a lieutenant in the K-9 unit at Miami International Airport, according to the complaint. Since March 2010, he had been working in the internal affairs division. Mata faces charges of aiding and abetting a conspiracy to distribute cocaine, conspiring to distribute cocaine and engaging in monetary transactions in property derived from specified unlawful activity. He is scheduled to appear in federal court in Florida on Wednesday. If convicted, Mata could face life in prison. CNN's Suzanne Presto contributed to this report.                                                                                                                                                                                                                                                                                                                                                                                                                                                                                                                                                                                                                                                                                                                                                                                                                                                                                                                                                                                                                                                                                                                                                                                                                                                                                                                                                                                                                                                                                                                                                                                                                                                                                                                                                                                                                                                                                                                                                                                                                                                                                                                                                                                                                                                                                       |Criminal complaint: Cop used his role to help cocaine traffickers .\\nRalph Mata, an internal affairs lieutenant, allegedly helped group get guns .\\nHe also arranged to pay two assassins in a murder plot, a complaint alleges .                                                                                                                                                                                     |\n|00027e965c8264c35cc1bc55556db388da82b07f|A drunk driver who killed a young woman in a head-on crash while checking his mobile phone has been jailed for six years. Craig Eccleston-Todd, 27, was driving home from a night at a pub when he received a text message. As he was reading or replying to it, he veered across the road while driving round a bend and smashed into Rachel Titley’s car coming the other way. Craig Eccleston-Todd, 27 (left) was using his mobile phone when he crashed head-on into the car being driven by Rachel Titley, 28 (right). She died later from her injuries . The head-on crash took place in October 2013. Mr Eccleston-Todd's car was barely recognisable (pictured) Police said Eccleston-Todd had drunk at least three or four pints of beer before getting behind the wheel. He was found guilty of causing death by dangerous driving at Portsmouth Crown Court yesterday. Miss Titley, a 28-year-old solicitor’s clerk from Cowes, Isle of Wight, had also spent the evening with friends at a pub but had not drunk any alcohol, police said. She was driving responsibly and there was ‘nothing she could have done to avoid the collision’, they added. Lindsay Pennell, prosecuting, said: ‘Craig Eccleston-Todd’s driving resulted in the tragic death of a young woman, Rachel Titley, a death that could have been avoided. ‘Mr Eccleston-Todd took the decision to pick up his mobile phone whilst driving and, either reading or replying to this text message, was so distracted that he failed to negotiate a left-hand bend, crossing the central white line into the path of Miss Titley’s oncoming car. Miss Titley was pulled the wreckage of her Daihatsu Cuore but died later from her injuries in hospital . ‘Miss Titley [had] a bright future ahead of her. She was also returning home having spent an enjoyable evening with friends and was driving responsibly. ‘She had arranged to contact her friends when she got home to confirm that she had arrived safely. Her friends sadly never heard from her after they parted company. ‘Miss Titley’s death in these circumstances reiterates the danger of using a hand-held mobile phone whilst driving.’ Police were unable to take breath or blood tests from Eccleston-Todd immediately, but in tests several hours after the accident he was only marginally under the drink-drive limit. The judge agreed with police that he would have been over the limit at the time his red Citroen hit Miss Titley’s blue Daihatsu Cuore on a road near Yarmouth, Isle of Wight, on October 11, 2013. His phone records showed he was also texting around the time of the crash. PC Mark Furse, from Hampshire constabulary’s serious collision investigation unit, said: 'Our thoughts are with Rachel's family at this time. She had been out with friends at a pub in Shalfleet that evening, but had not had any alcohol. 'Our investigation showed that there was nothing she could have done to avoid the collision and sadly it cost her her life. 'Mr Eccleston-Todd had left work in Yarmouth and met with friends at a pub where he drank at least three to four pints of lager. He hadn't long left the pub to return home when the collision occurred at around 9.30pm. 'We weren't able to take breath or blood tests from him immediately and although blood taken several hours after the collision showed he was marginally under the limit, we maintain he would have been over the limit at the time of the collision and in summing up today, the judge agreed. 'The analysis of his phone records showed that he was texting on his phone around the time of the collision so it's highly likely this would also have contributed to his dangerous driving and loss of control.' Eccleston-Todd was found guilty of causing death by dangerous driving following a trial at Portsmouth Crown Court (pictured) He added: 'Mr Eccleston-Todd will now spend six years behind bars, but Rachel's family have lost her forever. 'I hope this will make people think twice before drinking any alcohol and getting behind the wheel, or using a phone once they're on the road. 'The dangers of drink driving and driving whilst using a mobile phone are obvious. Those who continue to do so risk spending a substantial time in prison. This case highlights just how tragic the consequences of committing these offences can be.' ‘Mr Eccleston-Todd will now spend six years behind bars, but Rachel’s family have lost her for ever. I hope this will make people think twice before drinking any alcohol and getting behind the wheel, or using a phone once they’re on the road. This case highlights just how tragic the consequences of committing these offences can be.’ Eccleston-Todd, of Newport, Isle of Wight, was also disqualified from driving for eight years after which he will have to complete an extended re-test.|Craig Eccleston-Todd, 27, had drunk at least three pints before driving car .\\nWas using phone when he veered across road in Yarmouth, Isle of Wight .\\nCrashed head-on into 28-year-old Rachel Titley's car, who died in hospital .\\nPolice say he would have been over legal drink-drive limit at time of crash .\\nHe was found guilty at Portsmouth Crown Court of causing death by dangerous driving .            |\n|0002c17436637c4fe1837c935c04de47adb18e9a|(CNN) -- With a breezy sweep of his pen President Vladimir Putin wrote a new chapter into Crimea's turbulent history, committing the region to a future returned to Russian domain. Sixty years prior, Ukraine's breakaway peninsula was signed away just as swiftly by Soviet leader Nikita Khrushchev. But dealing with such a blatant land grab on its eastern flank won't be anywhere near as quick and easy for Europe's 28-member union. Because, unlike Crimea's rushed referendum, everyone has a say. After initially slapping visa restrictions and asset freezes on a limited number of little known politicians and military men, Europe is facing urgent calls to widen the scope of its measures to target the Russian business community in particular. The logic of this is that those who run Russia and own it are essentially two sides of the coin. Alexei Navalny, one-time Moscow mayoral contender now under house arrest for opposing the current regime, called for Europe's leaders to ban everyone -- from Vladimir Putin's personal banker to Chelsea Football Club owner Roman Abramovich from keeping their money and loved ones abroad. Asset freezes and visa restrictions are especially palatable options for the EU because they can be rolled out on a discretionary basis, without requiring cumbersome legal procedures and recourse. In fact Russia cancels visas for people it doesn't like all the time. Just look at Hermitage Capital founder Bill Browder who lost both his right of entry and Moscow-based money in 2005 and dare not go back. Russia also banned the adoption of its orphans by Americans in retaliation for the US's implementation of an anti-corruption law named after Sergei Magnitsky, Browder's lawyer who died after a year in a Moscow detention center, apparently beaten to death. Yet in playing the 'money talks' card, Europe must be ready for the consequences of such action. Because money also walks. As such EU leaders must be ready to accept sanctions are a two-way street and will hurt both sides. Targeting Russia's peripatetic business community would be one way of sapping their tenuous support for President Putin. And such a strategy might also turn out to have a silver lining: awarding EU countries a chance to finally deal with some of the more unpleasant sides of their patronage, including money laundering and corruption, which have inflated prize assets like London property and Picasso paintings for years. Where Europe should hold fire though is trade. Two decades of post-Soviet rapprochement and almost $500 billion worth of commerce is a lot to put at stake. It's true that any trade war would hurt Russia far harder than it would the EU - not least because 15% of the former's GDP comes from exports to the bloc. But Europe - with its hefty reliance on Russian gas - would have a hard time keeping its factories going and citizens warm without power from the east. And while Putin flexes his political muscle, open trade channels keep the dialogue going giving all sides a chance to change the subject and talk less tensely. No one can afford to cut off that lifeline, especially now with Europe's economy on the rebound and Russia's one on the wane.                                                                                                                                                                                                                                                                                                                                                                                                                                                                                                                                                                                                                                                                                                                                                                                                                                                                                                                                                                                                                                                                                                                                                                                                                                                                                                                                                                                                                                                                                                                                                                                                                          |Nina dos Santos says Europe must be ready to accept sanctions will hurt both sides .\\nTargeting Russia's business community would be one way of sapping their support for President Putin, she says .\\nBut she says Europe would have a hard time keeping its factories going without power from the east .                                                                                                           |\n|0003ad6ef0c37534f80b55b4235108024b407f0b|Fleetwood are the only team still to have a 100% record in Sky Bet League One as a 2-0 win over Scunthorpe sent Graham Alexander’s men top of the table. The Cod Army are playing in the third tier for the first time in their history after six promotions in nine years and their remarkable ascent shows no sign of slowing with Jamie Proctor and Gareth Evans scoring the goals at Glanford Park. Fleetwood were one of five teams to have won two out of two but the other four clubs - Peterborough, Bristol City, Chesterfield and Crawley - all hit their first stumbling blocks. Posh were defeated 2-1 by Sheffield United, who had lost both of their opening contests. Jose Baxter’s opener gave the Blades a first-half lead, and although it was later cancelled out by Shaun Brisley’s goal, Ben Davies snatched a winner six minutes from time. In the lead: Jose Baxter (right) celebrates opening the scoring for Sheffield United . Up for the battle: Sheffield United's Michael Doyle (left) challenges Peterborough's Kyle Vassell in a keenly-contested clash . Bristol City, who beat Nigel Clough’s men on the opening day, were held to a goalless draw by last season's play-off finalists Leyton Orient while Chesterfield, the League Two champions, were beaten 1-0 by MK Dons, who play Manchester United in the Capital One Cup in seven days’ time. Arsenal loanee Benik Afobe scored the only goal of the game just after the break. Meanwhile, Crawley lost their unbeaten status, while Bradford maintained theirs, thanks to a 3-1 win for the Bantams. James Hanson became the first player to score against Crawley this season after 49 minutes before Joe Walsh equalised five minutes later. Heads up: Bristol City's Korey Smith (left) and Leyton Orient's Lloyd James go up for a header . But strikes from Billy Knott and Mason Bennett sealed an impressive away win Phil Parkinson's men. Bradford are now second behind Fleetwood after Doncaster’s stoppage-time equaliser meant Preston, for whom Joe Garner signed a new contract earlier on Tuesday, were held to a 1-1 draw which slipped them down the table. Chris Humphrey looked to have secured the points for the Lilywhites but Nathan Tyson struck a last-gasp leveller. Stand-in striker Matt Done scored a hat-trick for Rochdale in the evening’s high-scoring affair as Crewe were hammered 5-2. Marcus Haber marked his full Railwaymen debut with a brace but Done’s treble and goals from Ian Henderson and Peter Vincenti helped Keith Hill’s men to a big away victory. There were plenty of goals between Coventry and Barnsley too in a 2-2 draw with all four goals coming in the first half. Josh McQuoid and Jordan Clarke twice gave the Sky Blues the lead, but the Tykes earned a point thanks to strikes from Conor Hourihane and Leroy Lita. Notts County recorded a 2-1 home win over Colchester with Ronan Murray and Liam Noble on target. Freddie Sears replied for Colchester. James Wilson's second half equaliser earned Oldham a points against Port Vale after Tom Pope's opener and Yeovil claimed a 2-1 away victory at Walsall with Kevin Dawson striking a late winner. Tom Bradshaw had equalised after veteran James Hayter gave the Glovers the lead. Finally, Swindon held Gillingham to a 2-2 draw thanks to Stephen Bywater’s last-minute own goal. Danny Kedwell and Kortney Hause twice gave the Gills the lead but Andy Williams pulled Swindon level before Bywater dropped Raphael Branco's cross into his own net.                                                                                                                                                                                                                                                                                                                                                                                                                                                                                                                                                                                                                                                                                                                                                                                                                                                                                                                                                                                                                                                                                                                                                                                                                                                                                                                                                        |Fleetwood top of League One after 2-0 win at Scunthorpe .\\nPeterborough, Bristol City, Chesterfield and Crawley all drop first points of the season .\\nStand-in striker Matt Done scores a hat-trick as Rochdale thrash Crewe 5-2 .\\nWins for Notts County and Yeovil .\\nCoventry/Bradford and Oldham/Port Vale both end in draws .\\nA late Stephen Bywater own goal denies Gillingham three points against Millwall .|\n+----------------------------------------+---------------------------------------------------------------------------------------------------------------------------------------------------------------------------------------------------------------------------------------------------------------------------------------------------------------------------------------------------------------------------------------------------------------------------------------------------------------------------------------------------------------------------------------------------------------------------------------------------------------------------------------------------------------------------------------------------------------------------------------------------------------------------------------------------------------------------------------------------------------------------------------------------------------------------------------------------------------------------------------------------------------------------------------------------------------------------------------------------------------------------------------------------------------------------------------------------------------------------------------------------------------------------------------------------------------------------------------------------------------------------------------------------------------------------------------------------------------------------------------------------------------------------------------------------------------------------------------------------------------------------------------------------------------------------------------------------------------------------------------------------------------------------------------------------------------------------------------------------------------------------------------------------------------------------------------------------------------------------------------------------------------------------------------------------------------------------------------------------------------------------------------------------------------------------------------------------------------------------------------------------------------------------------------------------------------------------------------------------------------------------------------------------------------------------------------------------------------------------------------------------------------------------------------------------------------------------------------------------------------------------------------------------------------------------------------------------------------------------------------------------------------------------------------------------------------------------------------------------------------------------------------------------------------------------------------------------------------------------------------------------------------------------------------------------------------------------------------------------------------------------------------------------------------------------------------------------------------------------------------------------------------------------------------------------------------------------------------------------------------------------------------------------------------------------------------------------------------------------------------------------------------------------------------------------------------------------------------------------------------------------------------------------------------------------------------------------------------------------------------------------------------------------------------------------------------------------------------------------------------------------------------------------------------------------------------------------------------------------------------------------------------------------------------------------------------------------------------------------------------------------------------------------------------------------------------------------------------------------------------------------------------------------------------------------------------------------------------------------------------------------------------------------------------------------------------------------------------------------------------------------------------------------------------------------------------------------------------------------------------------------------------------------------------------------------------------------------------------------------------------------------------------------------------------------------------------------------------------------------------------------------------------------------------------------------------+----------------------------------------------------------------------------------------------------------------------------------------------------------------------------------------------------------------------------------------------------------------------------------------------------------------------------------------------------------------------------------------------------------------------+\nonly showing top 5 rows\n\n"
     ]
    }
   ],
   "source": [
    "df_train_pyspark.show(5, truncate= False)"
   ]
  },
  {
   "cell_type": "code",
   "execution_count": 0,
   "metadata": {
    "application/vnd.databricks.v1+cell": {
     "cellMetadata": {
      "byteLimit": 2048000,
      "rowLimit": 10000
     },
     "inputWidgets": {},
     "nuid": "de6ae826-aeaf-4654-8291-586c3a5c83a3",
     "showTitle": false,
     "title": ""
    }
   },
   "outputs": [
    {
     "output_type": "stream",
     "name": "stdout",
     "output_type": "stream",
     "text": [
      "count of article:\n287113\n11490\n13368\ncount of highlights:\n287113\n11490\n13368\n"
     ]
    }
   ],
   "source": [
    "#test data completion after loading\n",
    "print(\"count of article:\")\n",
    "print(df_train_pyspark.select(\"article\").count())\n",
    "print(df_test_pyspark.select(\"article\").count())\n",
    "print(df_validation_pyspark.select(\"article\").count())\n",
    "\n",
    "print(\"count of highlights:\")\n",
    "print(df_train_pyspark.select(\"highlights\").count())\n",
    "print(df_test_pyspark.select(\"highlights\").count())\n",
    "print(df_validation_pyspark.select(\"highlights\").count())\n"
   ]
  },
  {
   "cell_type": "markdown",
   "metadata": {
    "application/vnd.databricks.v1+cell": {
     "cellMetadata": {},
     "inputWidgets": {},
     "nuid": "77245efd-ae88-4e79-94a7-96d418c9e239",
     "showTitle": false,
     "title": ""
    }
   },
   "source": [
    "3. Data cleaning"
   ]
  },
  {
   "cell_type": "code",
   "execution_count": 0,
   "metadata": {
    "application/vnd.databricks.v1+cell": {
     "cellMetadata": {
      "byteLimit": 2048000,
      "rowLimit": 10000
     },
     "inputWidgets": {},
     "nuid": "5ab21db2-4182-4e14-a9e7-5660ad01d3cd",
     "showTitle": false,
     "title": ""
    }
   },
   "outputs": [
    {
     "output_type": "stream",
     "name": "stdout",
     "output_type": "stream",
     "text": [
      "\u001B[43mNote: you may need to restart the kernel using dbutils.library.restartPython() to use updated packages.\u001B[0m\nCollecting nltk\n  Downloading nltk-3.8.1-py3-none-any.whl (1.5 MB)\n     ━━━━━━━━━━━━━━━━━━━━━━━━━━━━━━━━━━━━━━━━ 1.5/1.5 MB 20.6 MB/s eta 0:00:00\nRequirement already satisfied: joblib in /databricks/python3/lib/python3.10/site-packages (from nltk) (1.2.0)\nCollecting tqdm\n  Downloading tqdm-4.66.1-py3-none-any.whl (78 kB)\n     ━━━━━━━━━━━━━━━━━━━━━━━━━━━━━━━━━━━━━━━━ 78.3/78.3 kB 14.5 MB/s eta 0:00:00\nRequirement already satisfied: click in /databricks/python3/lib/python3.10/site-packages (from nltk) (8.0.4)\nCollecting regex>=2021.8.3\n  Downloading regex-2023.10.3-cp310-cp310-manylinux_2_17_x86_64.manylinux2014_x86_64.whl (773 kB)\n     ━━━━━━━━━━━━━━━━━━━━━━━━━━━━━━━━━━━━━━ 773.9/773.9 kB 53.0 MB/s eta 0:00:00\nInstalling collected packages: tqdm, regex, nltk\nSuccessfully installed nltk-3.8.1 regex-2023.10.3 tqdm-4.66.1\n\u001B[43mNote: you may need to restart the kernel using dbutils.library.restartPython() to use updated packages.\u001B[0m\n"
     ]
    }
   ],
   "source": [
    "!pip install nltk"
   ]
  },
  {
   "cell_type": "code",
   "execution_count": 0,
   "metadata": {
    "application/vnd.databricks.v1+cell": {
     "cellMetadata": {
      "byteLimit": 2048000,
      "rowLimit": 10000
     },
     "inputWidgets": {},
     "nuid": "e671507d-ef5e-40bd-a23b-6a37c6d4a02e",
     "showTitle": false,
     "title": ""
    }
   },
   "outputs": [],
   "source": [
    "import pandas as pd\n",
    "import numpy as np\n",
    "import matplotlib.pyplot as plt\n",
    "import seaborn as sns\n",
    "%matplotlib inline\n",
    "\n",
    "import pyspark\n",
    "from pyspark.sql import *\n",
    "from pyspark.sql.types import *\n",
    "from pyspark.sql.functions import *\n",
    "from pyspark import SparkContext, SparkConf\n",
    "\n",
    "from pyspark.sql.functions import udf, col, lower, trim, regexp_replace, concat_ws, lit\n",
    "from pyspark.ml.feature import Tokenizer, StopWordsRemover\n",
    "from nltk.stem.snowball import SnowballStemmer"
   ]
  },
  {
   "cell_type": "code",
   "execution_count": 0,
   "metadata": {
    "application/vnd.databricks.v1+cell": {
     "cellMetadata": {
      "byteLimit": 2048000,
      "rowLimit": 10000
     },
     "inputWidgets": {},
     "nuid": "6d296c92-4593-42a2-8de2-dc92434397a1",
     "showTitle": false,
     "title": ""
    }
   },
   "outputs": [
    {
     "output_type": "stream",
     "name": "stdout",
     "output_type": "stream",
     "text": [
      "count of NULL in article:\n0\n0\n0\ncount of NULL in highlights:\n0\n0\n0\n"
     ]
    }
   ],
   "source": [
    "# check NULL value\n",
    "print(\"count of NULL in article:\")\n",
    "print(df_train_pyspark.where(col(\"article\").isNull()).count())\n",
    "print(df_test_pyspark.where(col(\"article\").isNull()).count())\n",
    "print(df_validation_pyspark.where(col(\"article\").isNull()).count())\n",
    "\n",
    "print(\"count of NULL in highlights:\")\n",
    "print(df_train_pyspark.where(col(\"highlights\").isNull()).count())\n",
    "print(df_test_pyspark.where(col(\"highlights\").isNull()).count())\n",
    "print(df_validation_pyspark.where(col(\"highlights\").isNull()).count())"
   ]
  },
  {
   "cell_type": "code",
   "execution_count": 0,
   "metadata": {
    "application/vnd.databricks.v1+cell": {
     "cellMetadata": {
      "byteLimit": 2048000,
      "rowLimit": 10000
     },
     "inputWidgets": {},
     "nuid": "125c698f-bf52-4d79-ab11-ba478a2bc5a2",
     "showTitle": false,
     "title": ""
    }
   },
   "outputs": [
    {
     "output_type": "stream",
     "name": "stdout",
     "output_type": "stream",
     "text": [
      "Number of rows in df_train_pyspark after dropping the duplicates: 287113\nNumber of rows in df_test_pyspark after dropping the duplicates: 11490\nNumber of rows in df_validation_pyspark after dropping the duplicates: 13368\n"
     ]
    }
   ],
   "source": [
    "# drop duplicates\n",
    "df_train_pyspark = df_train_pyspark.dropDuplicates()\n",
    "df_test_pyspark = df_test_pyspark.dropDuplicates()\n",
    "df_validation_pyspark = df_validation_pyspark.dropDuplicates()\n",
    "print(f\"Number of rows in df_train_pyspark after dropping the duplicates: {df_train_pyspark.count()}\")\n",
    "print(f\"Number of rows in df_test_pyspark after dropping the duplicates: {df_test_pyspark.count()}\")\n",
    "print(f\"Number of rows in df_validation_pyspark after dropping the duplicates: {df_validation_pyspark.count()}\")\n",
    "# nothing dropped"
   ]
  },
  {
   "cell_type": "markdown",
   "metadata": {
    "application/vnd.databricks.v1+cell": {
     "cellMetadata": {},
     "inputWidgets": {},
     "nuid": "ba7be3cd-d96a-4b3c-b9ef-2b57b126cfc3",
     "showTitle": false,
     "title": ""
    }
   },
   "source": [
    "contraction_mapping\n",
    "\n",
    "lowercased\n",
    "\n",
    "remove 's\n",
    "\n",
    "remove puncuation + numbers\n",
    "\n",
    "remove \\n (since there are \\n in the highlights)\n",
    "\n",
    "remove any unnessesary whitespace"
   ]
  },
  {
   "cell_type": "code",
   "execution_count": 0,
   "metadata": {
    "application/vnd.databricks.v1+cell": {
     "cellMetadata": {
      "byteLimit": 2048000,
      "rowLimit": 10000
     },
     "inputWidgets": {},
     "nuid": "5a86c921-1a3b-4552-b0ae-790dc94e0bdc",
     "showTitle": false,
     "title": ""
    }
   },
   "outputs": [],
   "source": [
    "contraction_mapping = contraction_mapping ={\"ain't\": \"is not\", \"aren't\": \"are not\",\"can't\": \"cannot\", \"'cause\": \"because\", \"could've\": \"could have\", \"couldn't\": \"could not\",\n",
    "\n",
    "                           \"didn't\": \"did not\", \"doesn't\": \"does not\", \"don't\": \"do not\", \"hadn't\": \"had not\", \"hasn't\": \"has not\", \"haven't\": \"have not\",\n",
    "\n",
    "                           \"he'd\": \"he would\",\"he'll\": \"he will\", \"he's\": \"he is\", \"how'd\": \"how did\", \"how'd'y\": \"how do you\", \"how'll\": \"how will\", \"how's\": \"how is\",\n",
    "\n",
    "                           \"I'd\": \"I would\", \"I'd've\": \"I would have\", \"I'll\": \"I will\", \"I'll've\": \"I will have\",\"I'm\": \"I am\", \"I've\": \"I have\", \"i'd\": \"i would\",\n",
    "\n",
    "                           \"i'd've\": \"i would have\", \"i'll\": \"i will\",  \"i'll've\": \"i will have\",\"i'm\": \"i am\", \"i've\": \"i have\", \"isn't\": \"is not\", \"it'd\": \"it would\",\n",
    "\n",
    "                           \"it'd've\": \"it would have\", \"it'll\": \"it will\", \"it'll've\": \"it will have\",\"it's\": \"it is\", \"let's\": \"let us\", \"ma'am\": \"madam\",\n",
    "\n",
    "                           \"mayn't\": \"may not\", \"might've\": \"might have\",\"mightn't\": \"might not\",\"mightn't've\": \"might not have\", \"must've\": \"must have\",\n",
    "\n",
    "                           \"mustn't\": \"must not\", \"mustn't've\": \"must not have\", \"needn't\": \"need not\", \"needn't've\": \"need not have\",\"o'clock\": \"of the clock\",\n",
    "\n",
    "                           \"oughtn't\": \"ought not\", \"oughtn't've\": \"ought not have\", \"shan't\": \"shall not\", \"sha'n't\": \"shall not\", \"shan't've\": \"shall not have\",\n",
    "\n",
    "                           \"she'd\": \"she would\", \"she'd've\": \"she would have\", \"she'll\": \"she will\", \"she'll've\": \"she will have\", \"she's\": \"she is\",\n",
    "\n",
    "                           \"should've\": \"should have\", \"shouldn't\": \"should not\", \"shouldn't've\": \"should not have\", \"so've\": \"so have\",\"so's\": \"so as\",\n",
    "\n",
    "                           \"this's\": \"this is\",\"that'd\": \"that would\", \"that'd've\": \"that would have\", \"that's\": \"that is\", \"there'd\": \"there would\",\n",
    "\n",
    "                           \"there'd've\": \"there would have\", \"there's\": \"there is\", \"here's\": \"here is\",\"they'd\": \"they would\", \"they'd've\": \"they would have\",\n",
    "\n",
    "                           \"they'll\": \"they will\", \"they'll've\": \"they will have\", \"they're\": \"they are\", \"they've\": \"they have\", \"to've\": \"to have\",\n",
    "\n",
    "                           \"wasn't\": \"was not\", \"we'd\": \"we would\", \"we'd've\": \"we would have\", \"we'll\": \"we will\", \"we'll've\": \"we will have\", \"we're\": \"we are\",\n",
    "\n",
    "                           \"we've\": \"we have\", \"weren't\": \"were not\", \"what'll\": \"what will\", \"what'll've\": \"what will have\", \"what're\": \"what are\",\n",
    "\n",
    "                           \"what's\": \"what is\", \"what've\": \"what have\", \"when's\": \"when is\", \"when've\": \"when have\", \"where'd\": \"where did\", \"where's\": \"where is\",\n",
    "\n",
    "                           \"where've\": \"where have\", \"who'll\": \"who will\", \"who'll've\": \"who will have\", \"who's\": \"who is\", \"who've\": \"who have\",\n",
    "\n",
    "                           \"why's\": \"why is\", \"why've\": \"why have\", \"will've\": \"will have\", \"won't\": \"will not\", \"won't've\": \"will not have\",\n",
    "\n",
    "                           \"would've\": \"would have\", \"wouldn't\": \"would not\", \"wouldn't've\": \"would not have\", \"y'all\": \"you all\",\n",
    "\n",
    "                           \"y'all'd\": \"you all would\",\"y'all'd've\": \"you all would have\",\"y'all're\": \"you all are\",\"y'all've\": \"you all have\",\n",
    "\n",
    "                           \"you'd\": \"you would\", \"you'd've\": \"you would have\", \"you'll\": \"you will\", \"you'll've\": \"you will have\",\n",
    "\n",
    "                           \"you're\": \"you are\", \"you've\": \"you have\"}"
   ]
  },
  {
   "cell_type": "code",
   "execution_count": 0,
   "metadata": {
    "application/vnd.databricks.v1+cell": {
     "cellMetadata": {
      "byteLimit": 2048000,
      "rowLimit": 10000
     },
     "inputWidgets": {},
     "nuid": "2ad438cf-d26e-4722-8c0b-3152cc4ef005",
     "showTitle": false,
     "title": ""
    }
   },
   "outputs": [],
   "source": [
    "for key, value in contraction_mapping.items():\n",
    "    df_train_pyspark = df_train_pyspark.withColumn(\"article\", regexp_replace(df_train_pyspark.article, key, value))\n",
    "    df_train_pyspark = df_train_pyspark.withColumn(\"highlights\", regexp_replace(df_train_pyspark.highlights, key, value))\n",
    "\n",
    "    df_test_pyspark = df_test_pyspark.withColumn(\"article\", regexp_replace(df_test_pyspark.article, key, value))\n",
    "    df_test_pyspark = df_test_pyspark.withColumn(\"highlights\", regexp_replace(df_test_pyspark.highlights, key, value))\n",
    "\n",
    "    df_validation_pyspark = df_validation_pyspark.withColumn(\"article\", regexp_replace(df_validation_pyspark.article, key, value))\n",
    "    df_vaildation_pyspark = df_validation_pyspark.withColumn(\"highlights\", regexp_replace(df_validation_pyspark.highlights, key, value))"
   ]
  },
  {
   "cell_type": "code",
   "execution_count": 0,
   "metadata": {
    "application/vnd.databricks.v1+cell": {
     "cellMetadata": {
      "byteLimit": 2048000,
      "rowLimit": 10000
     },
     "inputWidgets": {},
     "nuid": "51629a42-3853-499f-a1e9-bb7f9aca77c5",
     "showTitle": false,
     "title": ""
    }
   },
   "outputs": [],
   "source": [
    "def data_clean(df, columns_name):\n",
    "  df = df.withColumn(columns_name, lower(col(columns_name))) # lowercased\n",
    "  df = df.withColumn(columns_name, regexp_replace(col(columns_name), \"'s\", \"\"))\n",
    "  df = df.withColumn(columns_name, regexp_replace(col(columns_name), r'\\([^)]*\\)', ''))\n",
    "  df = df.withColumn(columns_name, regexp_replace(col(columns_name), \"[^a-zA-Z\\\\s]\", \" \"))\n",
    "  df = df.withColumn(columns_name, regexp_replace(col(columns_name), \"\\n\", \"\"))\n",
    "  df = df.withColumn(columns_name, trim(regexp_replace(col(columns_name), \" +\", \" \")))\n",
    "  if columns_name == \"highlights\":\n",
    "    delimiter = \" \"\n",
    "    df = df.withColumn(columns_name, concat_ws(delimiter, lit(\"soseq\"), df[columns_name], lit(\"eoseq\")))\n",
    "\n",
    "  return df"
   ]
  },
  {
   "cell_type": "code",
   "execution_count": 0,
   "metadata": {
    "application/vnd.databricks.v1+cell": {
     "cellMetadata": {
      "byteLimit": 2048000,
      "rowLimit": 10000
     },
     "inputWidgets": {},
     "nuid": "209408c5-b14e-4ed4-afdb-3d9b12639610",
     "showTitle": false,
     "title": ""
    }
   },
   "outputs": [],
   "source": [
    "df_train_pyspark = data_clean(df_train_pyspark, \"article\")\n",
    "df_test_pyspark = data_clean(df_test_pyspark, \"article\")\n",
    "df_validation_pyspark = data_clean(df_validation_pyspark, \"article\")\n",
    "\n",
    "df_train_pyspark = data_clean(df_train_pyspark, \"highlights\")\n",
    "df_test_pyspark = data_clean(df_test_pyspark, \"highlights\")\n",
    "df_validation_pyspark = data_clean(df_validation_pyspark, \"highlights\")"
   ]
  },
  {
   "cell_type": "code",
   "execution_count": 0,
   "metadata": {
    "application/vnd.databricks.v1+cell": {
     "cellMetadata": {
      "byteLimit": 2048000,
      "rowLimit": 10000
     },
     "inputWidgets": {},
     "nuid": "ac510959-3ad0-4e07-80de-525a74a83731",
     "showTitle": false,
     "title": ""
    }
   },
   "outputs": [
    {
     "output_type": "stream",
     "name": "stdout",
     "output_type": "stream",
     "text": [
      "+----------------------------------------+-------------------------------------------------------------------------------------------------------------------------------------------------------------------------------------------------------------------------------------------------------------------------------------------------------------------------------------------------------------------------------------------------------------------------------------------------------------------------------------------------------------------------------------------------------------------------------------------------------------------------------------------------------------------------------------------------------------------------------------------------------------------------------------------------------------------------------------------------------------------------------------------------------------------------------------------------------------------------------------------------------------------------------------------------------------------------------------------------------------------------------------------------------------------------------------------------------------------------------------------------------------------------------------------------------------------------------------------------------------------------------------------------------------------------------------------------------------------------------------------------------------------------------------------------------------------------------------------------------------------------------------------------------------------------------------------------------------------------------------------------------------------------------------------------------------------------------------------------------------------------------------------------------------------------------------------------------------------------------------------------------------------------------------------------------------------------------------------------------------------------------------------------------------------------------------------------------------------------------------------------------------------------------------------------------------------------------------------------------------------------------------------------------------------------------------------------------------------------------------------------------------------------------------------------------------------------------------------------------------------------------------------------------------------------------------------------------------------------------------------------------------------------------------------------------------------------------------------------------------------------------------------------------------------------------------------------------------------------------------------------------------------------------------------------------------------------------------------------------------------------------------------------------------------------------------------------------------------------------------------------------------------------------------------------------------------------------------------------------------------------------------------------------------------------------------------------------------------------------------------------------------------------------------------------------------------------------------------------------------------------------------------------------------------------------------------------------------------------------------------------------------------------------------------------------------------------------------------------------------------------------------------------------------------------------------------------------------------------------------------------------------------------------------------------------------------------------------------------------------------------------------------------------------------------------------------------------------------------------------------------------------------------------------------------------------------------------------------------------------------------------------------------------------------------------------------------------------------------------------------------------------------------------------------------------------------------------------------------------------------------------------------------------------------------------------------------------------------------------------------------------------------------------------------------------------------------------------------------------------------------------------------------------------------------------------------------------------------------------------------------------------------------------------------------------------------------------------------------------------------------------------------------------------------------------------------------------------------------------------------------------------------------------------------------------------------------------------------------------------------------------------------------------------------------------------------------------------------------------------------------------------------------------------------------------------------------------------------------------------------------------------------------------------------------------------------------------------------------------------------------------------------------------------------------------------------------------------------------------------------------------------------------------------------------------------------------------------------------------------------------------------------------------------------------------------------------------------------------------------------------------------------------------------------------------+-------------------------------------------------------------------------------------------------------------------------------------------------------------------------------------------------------------------------------------------------------------------------------------------------------------------------------------------------------------------------------------------------------+\n|id                                      |article                                                                                                                                                                                                                                                                                                                                                                                                                                                                                                                                                                                                                                                                                                                                                                                                                                                                                                                                                                                                                                                                                                                                                                                                                                                                                                                                                                                                                                                                                                                                                                                                                                                                                                                                                                                                                                                                                                                                                                                                                                                                                                                                                                                                                                                                                                                                                                                                                                                                                                                                                                                                                                                                                                                                                                                                                                                                                                                                                                                                                                                                                                                                                                                                                                                                                                                                                                                                                                                                                                                                                                                                                                                                                                                                                                                                                                                                                                                                                                                                                                                                                                                                                                                                                                                                                                                                                                                                                                                                                                                                                                                                                                                                                                                                                                                                                                                                                                                                                                                                                                                                                                                                                                                                                                                                                                                                                                                                                                                                                                                                                                                                                                                                                                                                                                                                                                                                                                                                                                                                                                                                                                                                                                        |highlights                                                                                                                                                                                                                                                                                                                                                                                             |\n+----------------------------------------+-------------------------------------------------------------------------------------------------------------------------------------------------------------------------------------------------------------------------------------------------------------------------------------------------------------------------------------------------------------------------------------------------------------------------------------------------------------------------------------------------------------------------------------------------------------------------------------------------------------------------------------------------------------------------------------------------------------------------------------------------------------------------------------------------------------------------------------------------------------------------------------------------------------------------------------------------------------------------------------------------------------------------------------------------------------------------------------------------------------------------------------------------------------------------------------------------------------------------------------------------------------------------------------------------------------------------------------------------------------------------------------------------------------------------------------------------------------------------------------------------------------------------------------------------------------------------------------------------------------------------------------------------------------------------------------------------------------------------------------------------------------------------------------------------------------------------------------------------------------------------------------------------------------------------------------------------------------------------------------------------------------------------------------------------------------------------------------------------------------------------------------------------------------------------------------------------------------------------------------------------------------------------------------------------------------------------------------------------------------------------------------------------------------------------------------------------------------------------------------------------------------------------------------------------------------------------------------------------------------------------------------------------------------------------------------------------------------------------------------------------------------------------------------------------------------------------------------------------------------------------------------------------------------------------------------------------------------------------------------------------------------------------------------------------------------------------------------------------------------------------------------------------------------------------------------------------------------------------------------------------------------------------------------------------------------------------------------------------------------------------------------------------------------------------------------------------------------------------------------------------------------------------------------------------------------------------------------------------------------------------------------------------------------------------------------------------------------------------------------------------------------------------------------------------------------------------------------------------------------------------------------------------------------------------------------------------------------------------------------------------------------------------------------------------------------------------------------------------------------------------------------------------------------------------------------------------------------------------------------------------------------------------------------------------------------------------------------------------------------------------------------------------------------------------------------------------------------------------------------------------------------------------------------------------------------------------------------------------------------------------------------------------------------------------------------------------------------------------------------------------------------------------------------------------------------------------------------------------------------------------------------------------------------------------------------------------------------------------------------------------------------------------------------------------------------------------------------------------------------------------------------------------------------------------------------------------------------------------------------------------------------------------------------------------------------------------------------------------------------------------------------------------------------------------------------------------------------------------------------------------------------------------------------------------------------------------------------------------------------------------------------------------------------------------------------------------------------------------------------------------------------------------------------------------------------------------------------------------------------------------------------------------------------------------------------------------------------------------------------------------------------------------------------------------------------------------------------------------------------------------------------------------------------------------------+-------------------------------------------------------------------------------------------------------------------------------------------------------------------------------------------------------------------------------------------------------------------------------------------------------------------------------------------------------------------------------------------------------+\n|b1d4dd6749a0523ed12691de13b178526b8137c2|dynamo kiev face disciplinary proceedings after their fans were accused of racist behaviour during the europa league second leg against everton at the olympic stadium on thursday the ukrainian side advanced to the quarter finals of the competition with a win on the night securing a aggregate victory however the victory was followed by allegations which will be dealt with by uefa control ethics and disciplinary body on march dynamo kiev face disciplinary proceedings after their fans were accused of racist behaviour on thursday the allegations will be dealt with by uefa control ethics and disciplinary body on march uefa said in a statement on its website that dynamo face separate charges relating to racist behaviour setting off of fireworks and insufficient organisation defined as allowing stairways to be blocked their next match in the europa league will be against fiorentina after the draw was made on friday the first and second legs will be played on april and everton striker romelu lukaku heads the ball during their europa league defeat by dynamo kiev                                                                                                                                                                                                                                                                                                                                                                                                                                                                                                                                                                                                                                                                                                                                                                                                                                                                                                                                                                                                                                                                                                                                                                                                                                                                                                                                                                                                                                                                                                                                                                                                                                                                                                                                                                                                                                                                                                                                                                                                                                                                                                                                                                                                                                                                                                                                                                                                                                                                                                                                                                                                                                                                                                                                                                                                                                                                                                                                                                                                                                                                                                                                                                                                                                                                                                                                                                                                                                                                                                                                                                                                                                                                                                                                                                                                                                                                                                                                                                                                                                                                                                                                                                                                                                                                                                                                                                                                                                                                                                                                                                                                                                                                                                                                                                                                                                                                                                                                                                        \n\n*** WARNING: max output size exceeded, skipping output. ***\n\nghanistan and iraq tv and radio presenter fearne cotton sported her slate grey mothertee on instagram last week in support of the campaign the celeb mum announced last month that she is expecting her second child women for women international helps women in eight war torn regions offering support tools and access to life changing skills to move from poverty to stability the year long training programme teaches women how to write earn and living and what their rights are the charity women for women international is supported by celebs including angelina jolie and meryl streep the campaign was founded by molly gunn editor of selfish mother a site she created for like minded women in actress and presenter denise van outen supported women across the globe this international women day posting her motherteeselfie on instagram three weeks ago she wrote ladies you need to get one of these brilliant cause molly website selfish mother describes itself as an honest blogzine on life the universe and everything her instagram account has nearly followers regularly reposting selfies of mothers in their tshirts from across the world the slogan t shirts can be purchased from the website selfish mother for and come in a range of colours legendary rock and roll mother jo wood also took a mothertee snap in support of women for women international the model and entrepreneur has two children and eight grandchildren and from each sale goes to women for woman international a charity helping women in war torn regions the tees are made by women in a certified factory in bangladesh sweatshirts cost and are made from per cent organic cotton in a fair wear certified factory celebs have been quick to share their pics on instagram and twitter using the hashtags selfishmother mothertee and womenforwomenuk fashion conscious mums across the world have been sharing their motherteeselfies on social media with pictures sent in from the uk europe and the us women for women international have said we really can t thank you enough for choosing to support women for women international through this inspiring project which is so in keeping with what we at wfwi believe about the importance of solidarity and the power of bringing women together selfish mother website claims the sweatshirts feel good in more ways than one you will not want to take it off the mother collection was made at a fair wear foundation certified factory in bangladesh which means there is no unfair labour the mother design tees cost and all profits go to charity women for women international the slogan t shirts come in a range of colours and can be purchased from shop selfishmother com the super soft easy to wear sweatshirts cost and are made from per cent organic cotton in a fair wear certified factory join in tees sweatshirts shop selfishmother com with all profits to women for women international uk share pics with hashtags selfishmother mothertee womenforwomenuk on instagram twitter and facebook and in other feel good charitable celebrity news top celebrities such as sir tom jones jonathan ross jack wilshere vivienne westwood katie price and over more famous faces have donated their shoes to be auctioned off on the british heart foundation s ebay site as part of good morning britain s heels hearts campaign shoes that have been donated include a pair of cowboy boots worn by alison steadman for an episode of gavin stacey stilettos worn by tv personality and epic strutter michael van schoick and the wedding shoes gemma atkinson wore in her first scene in emmerdale good morning britain s heels hearts campaign supported by the bhf will give every secondary school pupil in the uk the possibility to learn cardiopulmonary resuscitation glamour model katie price supported the heels hearts campaign by donating a pair of white stilettos funds raised through the campaign will aim to provide every secondary school in the uk with a cpr kit so that young people can learn the life saving skill good morning britain is appealing to the public to donate their unwanted shoes to bhf shops during the campaign which will then go towards funding the cpr kits in the uk less than one in ten people survive an out of hospital cardiac arrest veteran singer and judge on the voice sir tom jones handed over a pair of black monk shoes to support the fundraising campaign whilst tv presenter jonathan ross donated some black leather shoes yet in some parts of norway where cpr training is taught in secondary school survival rates are one in four if the uk achieved the same rates as norway we could save the lives of up to people every year diane locke bhf deputy retail director said we re delighted that so many celebrities have donated to good morning britain s heels hearts campaign and are very grateful for every pair we re very lucky to have been donated all types of shoes from designer brands and high heels to sport shoes from over celebrities arsenal player jack wilshere donated a signed pair of football boots in support of the british heart foundation campaign there really is something for everyone available so please visit bhf org uk and take a look the profit raised from each pair of shoes will help give us the chance for every secondary school pupil in the uk to learn cpr last financial year bhf stores raised over million to help the bhf fight heart disease the nation s single biggest killer supporters are encouraged to get involved using the hashtag heels hearts|soseq stylish celeb mums support charity campaign by taking selfies in t shirts the mothertee campaign has been a huge success on social media women for women international raises money for women affected by war the charity is supported by celebs angelina jolie and meryl streep eoseq                                                                                                           |\n|e45a7c7eb72961518bf1616961ad887ac980ff3e|former french interior minister claude gueant was yesterday placed under formal criminal investigation former french interior minister claude gueant was yesterday placed under formal criminal investigation over cash he allegedly received from colonel gaddafi it is all part of a wider corruption enquiry into claims that gueant former boss nicolas sarkozy received millions from the late libyan dictator gueant was sarkozy chief of staff during the election campaign which saw sarkozy become french president the central allegation is that muammar gaddafi directly funded the campaign in return for sarkozy support both sarkozy and gueant deny the claims but paris judicial sources confirmed gueant was being interviewed about the allegations from am today he faces a long criminal investigation which could end up in a court trial and prison sentence investigators were particularly interested in how gueant could have sold two paintings by an obscure flemish baroque master for the record price of euro gueant insists that the cash payment was a good price for andries van eertvelt th century paintings of boats in a storm gueant said i made the deal under personal circumstances but i am not an art investor saying he sold them in to an unidentified malaysian lawyer but art experts say the paintings were not worth anything like that amount and there are suspicions that the cash in fact came from gaddafi sarkozy who only completed one term as president before losing the election to francois hollande has been dogged by corruption allegations related to gaddafi a document made public in paris in is said to show that the pair sealed an illegal financial deal that propelled sarkozy to power in written in arabic and signed by mussa kussa gaddafi intelligence chief in it refers to an agreement in principle to support the campaign for the candidate for the presidential elections nicolas sarkozy for a sum equivalent to euro million claude gueant and nicolas sarkozy are accused of accepting cash from colonel gaddafi to fund their election campaign france current interior minister bernard cazeneuve said at the time faced with such serious allegations backed up by documents sourced from the libyan dictator own entourage nicolas sarkozy must explain himself to the french people everal times in recent weeks specific information has been published by the press relating to france relationship with colonel muammar gaddafi regime a governmental briefing note among papers sent to the investigative news site mediapart points to numerous visits to libya by sarkozy and his colleagues which were aimed at securing funding one said to have taken place on october led to campaign finance to ns being all paid assumed to be a reference to sarkozy at the time sarkozy was an ambitious interior minister who was raising money for his presidential election campaign even though taking cash from a notorious tyrant would have broken political financing laws sarkozy who only completed one term as president before losing the election to francois hollande has been dogged by corruption allegations related to gaddafi as france head of state sarkozy could not be prosecuted while in office but within days of him losing the election the paris home he shares with his third wife the former supermodel carla bruni was raided by anti corruption police sarkozy turned on his friend gaddafi at the beginning of the arab spring in french jets were the first to attack gaddafi tanks in a military campaign which ended with the libyan leader being murdered sarkozy is now back as president of the opposition ump party in france and insists he is innocent of any wrong doing and can stand again for the presidency in                                                                                                                                                                                                                                                                                                                                                                                                                                                                                                                                                                                                                                                                                                                                                                                                                                                                                                                                                                                                                                                                                                                                                                                                                                                                                                                                                                                                                                                                                                                                                                                                                                                                                                                                                                                                                                                                                                                                                                                                                                                                                                                                                                                                                                                                                                                      |soseq claude gueant placed under formal criminal investigation yesterday gueant was sarkozy chief of staff during the election campaign allegation is gaddafi directly funded campaign to get sarkozy support both sarkozy and gueant deny the corruption claims eoseq                                                                                                                                 |\n|a38c6716a53f709f369554d813f4cd40dcbd934e|a mystery food source sickened nearly restaurant patrons in philadelphia last month but city and state health officials say state law bars them from disclosing what the food was or how it was contaminated dozens of lawyers and law students from temple university became sick after a february feast at joy tsin lau in the city chinatown some said they were bedridden and others had to seek medical attention after coming down with food poisoning but the owner insisted her restaurant was not the culprit stomach turning dozens of lawyers and law students from temple university became sick with vomiting and explosive diarrhea after a february feast at joy tsin lau in the city chinatown it was not a problem with my restaurant chi mabel chan told philadelphia inquirer maybe they got cold or drank too much a food source was identified as the cause of the outbreak but city health department spokesman jeff moran declined to explain what the food was or how it was contaminated citing state law that bars them from disclosing findings of investigations wes culp a spokesman for the state department of health said the law prohibits disclosure of diseases or any records maintained as a result of any actions taken in consequence of those reports we do not disclose information related to an investigation unless there is a public health purpose to sharing the information culp said in an email in a report two weeks prior to the outbreak a city health department employee cited the restaurant for multiple violations including a lack of soap and paper towels in the employee restroom which was noted as a repeat violation the february report stated in part potentially hazardous ready to eat food prepared in the food facility and held for more than hours located in the walk in cooler was not date marked the health department inspector also found that multiple food items located inside a refrigerator beneath the counter were not covered to prevent possible contamination in the health department issued a cease and desist order against joy tsin lau alleging failure to ensure that public health standards for a safe and sanitary operation are being maintained about people attended the ill fated banquet celebrating the lunar new year at the landmark chinese restaurant at race street the owner insisted her restaurant was not the culprit suggesting that the afflicted diners drank too much or came down with a cold at the event which doubled as a fundraiser for the temple university asian pacific american law student association guests were served an eight course dinner featuring peking duck walnut shrimp spare ribs deep fried fish and a host of other dishes one of the patrons at the restaurant that night was david haase a philadelphia attorney who told daily mail online in an email friday that the mystery illness felled him hours after the feast and kept him bedridden for four days he recalled that while none of the dishes he had that night tasted spoiled per se he noticed that nearly all of the food was barely lukewarm i was disappointed with the overall quality of the food but i did not give it too much thought because i was there to support the terrific law school organization hosting the event mr haase wrote to daily mail all of my colleagues at our firm table were similarly disappointed with the quality of the food but we just made the best of it mr haase noted that their table did send back the first pot of tea because there was food crusted on the spout the dinner was friday night on saturday haase piled his family into his suv and drove five hours to state college where his year old daughter was set to compete in a track championship the following day but at around am sunday disaster struck the lawyer whose firm sponsors a table at the banquet every year revealed that he suffered from a wicked combination of projectile vomiting explosive diarrhea and intense stomach cramps that made him moan in bed i have never been more sick he recalled vile fluids were coming out of every orifice star crossed diners attorney david haase and medical researcher jack jiang were among the patrons who found themselves bedridden with food poisoning after the banquet mr haase also addressed head on the restaurant owner s suggestion that perhaps the ailment was brought on by her guests overindulging in alcohol or coming down with a cold i was perfectly healthy when i attended the dinner i was appropriately dressed in a suit and overcoat and i did not go drinking at a karaoke bar afterwards he stated fellow diner jack jiang a medical researcher at university of pennsylvania attended the celebration with his girlfriend jiang recounted to philadelphia inquirer how he had spent three days in bed writhing in pain and exploding out of all orifices following the infamous dinner david haase said that while normally he is not inclined to sue anyone and he does not have the time to pursue legal action he said he just might make an exception in this case and set aside some precious time to educate the owner of the restaurant                                                                                                                                                                                                                                                                                                                                                                                                                                                                                                                                                                                                                                                                                                                                                                                                                                                                                                               |soseq dozens of lawyers and law students from temple university became sick after a february feast at joy tsin lau owner insisted her restaurant was not to blame saying the guests must have gotten too drunk health department inspector cited eatery for multiple violations two weeks before outbreak pennsylvania state law bars health officials from disclosing findings of investigations eoseq|\n+----------------------------------------+-------------------------------------------------------------------------------------------------------------------------------------------------------------------------------------------------------------------------------------------------------------------------------------------------------------------------------------------------------------------------------------------------------------------------------------------------------------------------------------------------------------------------------------------------------------------------------------------------------------------------------------------------------------------------------------------------------------------------------------------------------------------------------------------------------------------------------------------------------------------------------------------------------------------------------------------------------------------------------------------------------------------------------------------------------------------------------------------------------------------------------------------------------------------------------------------------------------------------------------------------------------------------------------------------------------------------------------------------------------------------------------------------------------------------------------------------------------------------------------------------------------------------------------------------------------------------------------------------------------------------------------------------------------------------------------------------------------------------------------------------------------------------------------------------------------------------------------------------------------------------------------------------------------------------------------------------------------------------------------------------------------------------------------------------------------------------------------------------------------------------------------------------------------------------------------------------------------------------------------------------------------------------------------------------------------------------------------------------------------------------------------------------------------------------------------------------------------------------------------------------------------------------------------------------------------------------------------------------------------------------------------------------------------------------------------------------------------------------------------------------------------------------------------------------------------------------------------------------------------------------------------------------------------------------------------------------------------------------------------------------------------------------------------------------------------------------------------------------------------------------------------------------------------------------------------------------------------------------------------------------------------------------------------------------------------------------------------------------------------------------------------------------------------------------------------------------------------------------------------------------------------------------------------------------------------------------------------------------------------------------------------------------------------------------------------------------------------------------------------------------------------------------------------------------------------------------------------------------------------------------------------------------------------------------------------------------------------------------------------------------------------------------------------------------------------------------------------------------------------------------------------------------------------------------------------------------------------------------------------------------------------------------------------------------------------------------------------------------------------------------------------------------------------------------------------------------------------------------------------------------------------------------------------------------------------------------------------------------------------------------------------------------------------------------------------------------------------------------------------------------------------------------------------------------------------------------------------------------------------------------------------------------------------------------------------------------------------------------------------------------------------------------------------------------------------------------------------------------------------------------------------------------------------------------------------------------------------------------------------------------------------------------------------------------------------------------------------------------------------------------------------------------------------------------------------------------------------------------------------------------------------------------------------------------------------------------------------------------------------------------------------------------------------------------------------------------------------------------------------------------------------------------------------------------------------------------------------------------------------------------------------------------------------------------------------------------------------------------------------------------------------------------------------------------------------------------------------------------------------------------------------------------------------------------------+-------------------------------------------------------------------------------------------------------------------------------------------------------------------------------------------------------------------------------------------------------------------------------------------------------------------------------------------------------------------------------------------------------+\nonly showing top 5 rows\n\n"
     ]
    }
   ],
   "source": [
    "df_validation_pyspark.show(5, truncate=False)"
   ]
  },
  {
   "cell_type": "markdown",
   "metadata": {
    "application/vnd.databricks.v1+cell": {
     "cellMetadata": {
      "byteLimit": 2048000,
      "rowLimit": 10000
     },
     "inputWidgets": {},
     "nuid": "12b4f74e-daf9-460e-8324-956b26f06b4b",
     "showTitle": false,
     "title": ""
    }
   },
   "source": [
    "tokenlization"
   ]
  },
  {
   "cell_type": "code",
   "execution_count": 0,
   "metadata": {
    "application/vnd.databricks.v1+cell": {
     "cellMetadata": {
      "byteLimit": 2048000,
      "rowLimit": 10000
     },
     "inputWidgets": {},
     "nuid": "d547725a-00d6-4c9e-813b-b9762b38375a",
     "showTitle": false,
     "title": ""
    }
   },
   "outputs": [
    {
     "output_type": "stream",
     "name": "stdout",
     "output_type": "stream",
     "text": [
      "+--------------------+--------------------+--------------------+--------------------+--------------------+\n|                  id|             article|          highlights|   tokenized_article|tokenized_highlights|\n+--------------------+--------------------+--------------------+--------------------+--------------------+\n|b1d4dd6749a0523ed...|dynamo kiev face ...|soseq dynamo kiev...|[dynamo, kiev, fa...|[soseq, dynamo, k...|\n|3a713e68e18993f30...|a bank worker tri...|soseq amish kansa...|[a, bank, worker,...|[soseq, amish, ka...|\n|4db59c496497fde0c...|what have fearne ...|soseq stylish cel...|[what, have, fear...|[soseq, stylish, ...|\n|e45a7c7eb72961518...|former french int...|soseq claude guea...|[former, french, ...|[soseq, claude, g...|\n|a38c6716a53f709f3...|a mystery food so...|soseq dozens of l...|[a, mystery, food...|[soseq, dozens, o...|\n+--------------------+--------------------+--------------------+--------------------+--------------------+\nonly showing top 5 rows\n\n"
     ]
    }
   ],
   "source": [
    "tokenizer_article = Tokenizer(inputCol=\"article\", outputCol=\"tokenized_article\")\n",
    "tokenizer_highlights = Tokenizer(inputCol=\"highlights\", outputCol=\"tokenized_highlights\")\n",
    "\n",
    "df_train_pyspark = tokenizer_article.transform(df_train_pyspark)\n",
    "df_train_pyspark = tokenizer_highlights.transform(df_train_pyspark)\n",
    "\n",
    "df_test_pyspark = tokenizer_article.transform(df_test_pyspark)\n",
    "df_test_pyspark = tokenizer_highlights.transform(df_test_pyspark)\n",
    "\n",
    "df_validation_pyspark = tokenizer_article.transform(df_validation_pyspark)\n",
    "df_validation_pyspark = tokenizer_highlights.transform(df_validation_pyspark)\n",
    "\n",
    "df_validation_pyspark.show(5)"
   ]
  },
  {
   "cell_type": "markdown",
   "metadata": {
    "application/vnd.databricks.v1+cell": {
     "cellMetadata": {},
     "inputWidgets": {},
     "nuid": "621c0e66-e161-45c6-a510-554cb8446a7c",
     "showTitle": false,
     "title": ""
    }
   },
   "source": [
    "stopwords removal"
   ]
  },
  {
   "cell_type": "code",
   "execution_count": 0,
   "metadata": {
    "application/vnd.databricks.v1+cell": {
     "cellMetadata": {
      "byteLimit": 2048000,
      "rowLimit": 10000
     },
     "inputWidgets": {},
     "nuid": "35e5df44-27cc-4f21-926c-ca6ae23abe84",
     "showTitle": false,
     "title": ""
    }
   },
   "outputs": [
    {
     "output_type": "stream",
     "name": "stdout",
     "output_type": "stream",
     "text": [
      "+--------------------+--------------------+--------------------+--------------------+--------------------+------------------------+---------------------------+\n|                  id|             article|          highlights|   tokenized_article|tokenized_highlights|stopword_removed_article|stopword_removed_highlights|\n+--------------------+--------------------+--------------------+--------------------+--------------------+------------------------+---------------------------+\n|b1d4dd6749a0523ed...|dynamo kiev face ...|soseq dynamo kiev...|[dynamo, kiev, fa...|[soseq, dynamo, k...|    [dynamo, kiev, fa...|       [soseq, dynamo, k...|\n|3a713e68e18993f30...|a bank worker tri...|soseq amish kansa...|[a, bank, worker,...|[soseq, amish, ka...|    [bank, worker, tr...|       [soseq, amish, ka...|\n|4db59c496497fde0c...|what have fearne ...|soseq stylish cel...|[what, have, fear...|[soseq, stylish, ...|    [fearne, cotton, ...|       [soseq, stylish, ...|\n|e45a7c7eb72961518...|former french int...|soseq claude guea...|[former, french, ...|[soseq, claude, g...|    [former, french, ...|       [soseq, claude, g...|\n|a38c6716a53f709f3...|a mystery food so...|soseq dozens of l...|[a, mystery, food...|[soseq, dozens, o...|    [mystery, food, s...|       [soseq, dozens, l...|\n+--------------------+--------------------+--------------------+--------------------+--------------------+------------------------+---------------------------+\nonly showing top 5 rows\n\n"
     ]
    }
   ],
   "source": [
    "stop_words_remover_article = StopWordsRemover(inputCol=\"tokenized_article\", outputCol=\"stopword_removed_article\")\n",
    "stop_words_remover_highlights = StopWordsRemover(inputCol=\"tokenized_highlights\", outputCol=\"stopword_removed_highlights\")\n",
    "\n",
    "\n",
    "df_train_pyspark = stop_words_remover_article.transform(df_train_pyspark)\n",
    "df_train_pyspark = stop_words_remover_highlights.transform(df_train_pyspark)\n",
    "\n",
    "df_test_pyspark = stop_words_remover_article.transform(df_test_pyspark)\n",
    "df_test_pyspark = stop_words_remover_highlights.transform(df_test_pyspark)\n",
    "\n",
    "df_validation_pyspark = stop_words_remover_article.transform(df_validation_pyspark)\n",
    "df_validation_pyspark = stop_words_remover_highlights.transform(df_validation_pyspark)\n",
    "\n",
    "df_validation_pyspark.show(5)"
   ]
  },
  {
   "cell_type": "code",
   "execution_count": 0,
   "metadata": {
    "application/vnd.databricks.v1+cell": {
     "cellMetadata": {
      "byteLimit": 2048000,
      "rowLimit": 10000
     },
     "inputWidgets": {},
     "nuid": "1d33a599-adfe-48c0-b555-23f5e4e31c01",
     "showTitle": false,
     "title": ""
    }
   },
   "outputs": [
    {
     "output_type": "stream",
     "name": "stdout",
     "output_type": "stream",
     "text": [
      "+--------------------+--------------------+--------------------+--------------------+--------------------+------------------------+---------------------------+\n|                  id|             article|          highlights|   tokenized_article|tokenized_highlights|stopword_removed_article|stopword_removed_highlights|\n+--------------------+--------------------+--------------------+--------------------+--------------------+------------------------+---------------------------+\n|002c115c31577d0e9...|washington pilots...|soseq first offic...|[washington, the,...|[soseq, first, of...|    [washington, pilo...|       [soseq, first, of...|\n|0203b8f730d58be22...|freya noble daily...|soseq counting co...|[by, freya, noble...|[soseq, counting,...|    [freya, noble, da...|       [soseq, counting,...|\n|0222d97ad9ce49402...|sanaa thousands y...|soseq air force r...|[sanaa, thousands...|[soseq, air, forc...|    [sanaa, thousands...|       [soseq, air, forc...|\n|025bee3924aab5c23...|afghan soldier sh...|soseq new attack ...|[an, afghan, sold...|[soseq, new, an, ...|    [afghan, soldier,...|       [soseq, new, atta...|\n|0365c2945c3588687...|caracas venezuela...|soseq consumers s...|[caracas, venezue...|[soseq, consumers...|    [caracas, venezue...|       [soseq, consumers...|\n+--------------------+--------------------+--------------------+--------------------+--------------------+------------------------+---------------------------+\nonly showing top 5 rows\n\n"
     ]
    }
   ],
   "source": [
    "df_train = df_train_pyspark.withColumn(\"article\",concat_ws(\" \", col(\"stopword_removed_article\"))).withColumn(\"highlights\",concat_ws(\" \", col(\"stopword_removed_highlights\")))\n",
    "df_test = df_test_pyspark.withColumn(\"article\",concat_ws(\" \", col(\"stopword_removed_article\"))).withColumn(\"highlights\",concat_ws(\" \", col(\"stopword_removed_highlights\")))\n",
    "df_validation = df_validation_pyspark.withColumn(\"article\",concat_ws(\" \", col(\"stopword_removed_article\"))).withColumn(\"highlights\",concat_ws(\" \", col(\"stopword_removed_highlights\")))\n",
    "\n",
    "df_train.show(5)"
   ]
  },
  {
   "cell_type": "code",
   "execution_count": 0,
   "metadata": {
    "application/vnd.databricks.v1+cell": {
     "cellMetadata": {
      "byteLimit": 2048000,
      "rowLimit": 10000
     },
     "inputWidgets": {},
     "nuid": "32cfcd38-6755-4acc-8703-14a60f09b2de",
     "showTitle": false,
     "title": ""
    }
   },
   "outputs": [
    {
     "output_type": "stream",
     "name": "stdout",
     "output_type": "stream",
     "text": [
      "+--------------------+--------------------+--------------------+--------------------+--------------------+------------------------+---------------------------+\n|                  id|             article|          highlights|   tokenized_article|tokenized_highlights|stopword_removed_article|stopword_removed_highlights|\n+--------------------+--------------------+--------------------+--------------------+--------------------+------------------------+---------------------------+\n|c8624a481fb71e13f...|spectacular momen...|soseq photos capt...|[this, is, the, s...|[soseq, photos, c...|    [spectacular, mom...|       [soseq, photos, c...|\n|33259941aa02eea8c...|team sky geraint ...|soseq norway alex...|[team, sky, gerai...|[soseq, norway, a...|    [team, sky, gerai...|       [soseq, norway, a...|\n|feae53518bfe6e7dd...|famous italian de...|soseq italian gla...|[famous, italian,...|[soseq, italian, ...|    [famous, italian,...|       [soseq, italian, ...|\n|0651c529fad57729b...|jenny wallenda ma...|soseq jenny walle...|[jenny, wallenda,...|[soseq, jenny, wa...|    [jenny, wallenda,...|       [soseq, jenny, wa...|\n|64104db667090b421...|american airlines...|soseq new board p...|[american, airlin...|[soseq, new, on, ...|    [american, airlin...|       [soseq, new, boar...|\n+--------------------+--------------------+--------------------+--------------------+--------------------+------------------------+---------------------------+\nonly showing top 5 rows\n\n"
     ]
    }
   ],
   "source": [
    "df_test.show(5)"
   ]
  },
  {
   "cell_type": "code",
   "execution_count": 0,
   "metadata": {
    "application/vnd.databricks.v1+cell": {
     "cellMetadata": {
      "byteLimit": 2048000,
      "rowLimit": 10000
     },
     "inputWidgets": {},
     "nuid": "8eeb266d-ba15-45f2-9347-37cfe1839318",
     "showTitle": false,
     "title": ""
    }
   },
   "outputs": [
    {
     "output_type": "stream",
     "name": "stdout",
     "output_type": "stream",
     "text": [
      "+--------------------+--------------------+--------------------+--------------------+--------------------+------------------------+---------------------------+\n|                  id|             article|          highlights|   tokenized_article|tokenized_highlights|stopword_removed_article|stopword_removed_highlights|\n+--------------------+--------------------+--------------------+--------------------+--------------------+------------------------+---------------------------+\n|b1d4dd6749a0523ed...|dynamo kiev face ...|soseq dynamo kiev...|[dynamo, kiev, fa...|[soseq, dynamo, k...|    [dynamo, kiev, fa...|       [soseq, dynamo, k...|\n|3a713e68e18993f30...|bank worker tried...|soseq amish kansa...|[a, bank, worker,...|[soseq, amish, ka...|    [bank, worker, tr...|       [soseq, amish, ka...|\n|4db59c496497fde0c...|fearne cotton den...|soseq stylish cel...|[what, have, fear...|[soseq, stylish, ...|    [fearne, cotton, ...|       [soseq, stylish, ...|\n|e45a7c7eb72961518...|former french int...|soseq claude guea...|[former, french, ...|[soseq, claude, g...|    [former, french, ...|       [soseq, claude, g...|\n|a38c6716a53f709f3...|mystery food sour...|soseq dozens lawy...|[a, mystery, food...|[soseq, dozens, o...|    [mystery, food, s...|       [soseq, dozens, l...|\n+--------------------+--------------------+--------------------+--------------------+--------------------+------------------------+---------------------------+\nonly showing top 5 rows\n\n"
     ]
    }
   ],
   "source": [
    "df_validation.show(5)"
   ]
  },
  {
   "cell_type": "markdown",
   "metadata": {
    "application/vnd.databricks.v1+cell": {
     "cellMetadata": {},
     "inputWidgets": {},
     "nuid": "9eac9ba1-43aa-47da-8c53-86835d03d6bd",
     "showTitle": false,
     "title": ""
    }
   },
   "source": [
    "save data into csv"
   ]
  },
  {
   "cell_type": "code",
   "execution_count": 0,
   "metadata": {
    "application/vnd.databricks.v1+cell": {
     "cellMetadata": {
      "byteLimit": 2048000,
      "rowLimit": 10000
     },
     "inputWidgets": {},
     "nuid": "e857123e-994c-4f00-8d14-7eadbdba1586",
     "showTitle": false,
     "title": ""
    }
   },
   "outputs": [],
   "source": [
    "\"\"\"\n",
    "train_cvs_path = \"dbfs:/user/hive/warehouse/train_csv\"\n",
    "test_cvs_path = \"dbfs:/user/hive/warehouse/test_csv\"\n",
    "validation_cvs_path = \"dbfs:/user/hive/warehouse/validation_csv\"\n",
    "\"\"\"\n",
    "\n",
    "csv_train_output_path = \"dbfs:/user/hive/warehouse/pro_train.csv\"\n",
    "csv_test_output_path = \"dbfs:/user/hive/warehouse/pro_test.csv\"\n",
    "csv_validation_output_path = \"dbfs:/user/hive/warehouse/pro_validation.csv\""
   ]
  },
  {
   "cell_type": "code",
   "execution_count": 0,
   "metadata": {
    "application/vnd.databricks.v1+cell": {
     "cellMetadata": {
      "byteLimit": 2048000,
      "rowLimit": 10000
     },
     "inputWidgets": {},
     "nuid": "121eb559-c923-4c44-9c95-74170a491673",
     "showTitle": false,
     "title": ""
    }
   },
   "outputs": [],
   "source": [
    "#Sample.coalesce(1).write.format(“com.databricks.spark.csv”).option(“header”, “true”).save(“dbfs:/FileStore/df/Sample.csv”)\n",
    "df_train.select(\"article\", \"highlights\").coalesce(1).write.format(\"com.databricks.spark.csv\").option(\"header\", \"true\").save(\"dbfs:/FileStore/tables/csv_train_output.csv\")\n"
   ]
  },
  {
   "cell_type": "code",
   "execution_count": 0,
   "metadata": {
    "application/vnd.databricks.v1+cell": {
     "cellMetadata": {
      "byteLimit": 2048000,
      "rowLimit": 10000
     },
     "inputWidgets": {},
     "nuid": "1cea1523-3539-4491-ab3f-6a6a591dd65a",
     "showTitle": false,
     "title": ""
    }
   },
   "outputs": [],
   "source": [
    "df_test.select(\"article\", \"highlights\").coalesce(1).write.format(\"com.databricks.spark.csv\").option(\"header\", \"true\").save(\"dbfs:/FileStore/tables/csv_test_output.csv\")"
   ]
  },
  {
   "cell_type": "code",
   "execution_count": 0,
   "metadata": {
    "application/vnd.databricks.v1+cell": {
     "cellMetadata": {
      "byteLimit": 2048000,
      "rowLimit": 10000
     },
     "inputWidgets": {},
     "nuid": "55284a8f-8f1f-4783-a507-33f72fbe1857",
     "showTitle": false,
     "title": ""
    }
   },
   "outputs": [],
   "source": [
    "df_validation.select(\"article\", \"highlights\").coalesce(1).write.format(\"com.databricks.spark.csv\").option(\"header\", \"true\").save(\"dbfs:/FileStore/tables/csv_validation_output.csv\")"
   ]
  }
 ],
 "metadata": {
  "application/vnd.databricks.v1+notebook": {
   "dashboards": [],
   "language": "python",
   "notebookMetadata": {
    "pythonIndentUnit": 4
   },
   "notebookName": "Untitled Notebook 2023-11-29 03:23:46",
   "widgets": {}
  }
 },
 "nbformat": 4,
 "nbformat_minor": 0
}
